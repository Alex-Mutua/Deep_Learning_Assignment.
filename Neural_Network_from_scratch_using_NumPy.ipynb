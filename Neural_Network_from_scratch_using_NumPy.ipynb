{
  "nbformat": 4,
  "nbformat_minor": 0,
  "metadata": {
    "colab": {
      "provenance": []
    },
    "kernelspec": {
      "name": "python3",
      "display_name": "Python 3"
    },
    "language_info": {
      "codemirror_mode": {
        "name": "ipython",
        "version": 3
      },
      "file_extension": ".py",
      "mimetype": "text/x-python",
      "name": "python",
      "nbconvert_exporter": "python",
      "pygments_lexer": "ipython3",
      "version": "3.6.5"
    }
  },
  "cells": [
    {
      "cell_type": "markdown",
      "metadata": {
        "id": "cEG1dhnuNFRk"
      },
      "source": [
        "# Steps to build a Neural Network in NumPy\n",
        "\n",
        "\n",
        "\n",
        "## Assignment Overview\n",
        "In this assignment, you will be developing a basic neural network from scratch using Python. The goal is to understand the fundamental components of a neural network by implementing the crucial processes that drive its learning capabilities.\n",
        "\n",
        "You will fill in the `.......` sections with the necessary code that corresponds to the outlined tasks. Each section requires you to consider mathematical formulations and dimensions of the variables used, which will help reinforce your understanding of how data flows through the network and how various components interact.\n",
        "\n",
        "**Important Sections:**\n",
        "\n",
        "1. **Loading the Dataset (Input and Output)**  \n",
        "   This section involves reading and preprocessing a dataset that the neural network will learn from. You will load features (inputs) and labels (outputs) that the model will try to predict.\n",
        "\n",
        "2. **Architecture of the Model (# Input, Hidden and Output Neurons)**  \n",
        "   Here, you will define the structure of the neural network. It is essential to determine the number of neurons in the input layer (which corresponds to the number of features in your dataset), the hidden layer(s) (which will be responsible for learning complex representations), and the output layer (which will provide the final predictions).\n",
        "\n",
        "3. **Initializing Weights for All Layers**  \n",
        "   In this section, you will set up the initial weights and biases for the neurons. Proper initialization is crucial for ensuring that the learning process starts effectively, avoiding issues such as vanishing or exploding gradients.\n",
        "\n",
        "4. **Implementing Forward Propagation**  \n",
        "   Forward propagation is where you compute the output of the network given its inputs and current weights. By applying activation functions, you will pass the inputs through the network, layer by layer, to obtain the final prediction.\n",
        "\n",
        "5. **Implementing Backward Propagation**  \n",
        "   Backward propagation is the process of updating the weights based on the error between the predicted output and the actual labels. You will compute gradients of the loss function with respect to the weights and use these to make adjustments that minimize the error.\n",
        "\n",
        "6. **Train the Model for n Epochs**  \n",
        "   This section will involve iterating over the training data for a specified number of epochs, applying forward and backward propagation to refine the model's weights. During training, you will monitor the loss to evaluate the model's performance and convergence.\n",
        "\n",
        "---\n",
        "\n",
        "## Instructions for Completing the Assignment\n",
        "\n",
        "For each of the sections mentioned above, do the following:\n",
        "\n",
        "- Review the explanations provided.\n",
        "- Fill in the `.......` parts with code snippets that fulfill the requirements of that section.\n",
        "- Before each code snippet for which you are filling in the `.......` parts, provide the **Mathematical notation** (after `Mathematical notation:`), which represents the underlying equations used in that part of the process, and the **Dimensions** (after `Dimensions:`) to indicate the shape of the variables involved (i.e., how many samples, features, etc.).\n",
        "\n",
        "By the end of this assignment, you will actively engage with key aspects of neural networks, linking theoretical concepts with their practical implementation. This hands-on experience will be invaluable for solidifying your understanding of machine learning fundamentals.\n",
        "\n"
      ]
    },
    {
      "cell_type": "markdown",
      "metadata": {
        "id": "sbgj7HfHNFRr"
      },
      "source": [
        "## 1. Loading the dataset (Input and Output)"
      ]
    },
    {
      "cell_type": "code",
      "metadata": {
        "id": "E5S9HgBzNFRw"
      },
      "source": [
        "# importing required libraries\n",
        "import numpy as np\n",
        "import matplotlib\n",
        "import matplotlib.pyplot as plt\n",
        "%matplotlib inline"
      ],
      "execution_count": null,
      "outputs": []
    },
    {
      "cell_type": "code",
      "metadata": {
        "id": "ogs6CaXu2zeZ",
        "outputId": "79bc87a6-7954-4ca3-cbe3-75f6f48181c0",
        "colab": {
          "base_uri": "https://localhost:8080/"
        }
      },
      "source": [
        "\n",
        "\n",
        "# version of numpy library\n",
        "print('Version of numpy:',np.__version__)"
      ],
      "execution_count": null,
      "outputs": [
        {
          "output_type": "stream",
          "name": "stdout",
          "text": [
            "Version of numpy: 1.26.4\n"
          ]
        }
      ]
    },
    {
      "cell_type": "code",
      "metadata": {
        "id": "vNmvxGv723N6",
        "outputId": "74eb1897-cdd9-45c1-e7e7-435e86f23014",
        "colab": {
          "base_uri": "https://localhost:8080/"
        }
      },
      "source": [
        "# version of matplotlib library\n",
        "print('Version of matplotlib:',matplotlib.__version__)"
      ],
      "execution_count": null,
      "outputs": [
        {
          "output_type": "stream",
          "name": "stdout",
          "text": [
            "Version of matplotlib: 3.10.0\n"
          ]
        }
      ]
    },
    {
      "cell_type": "code",
      "metadata": {
        "id": "H_h7HoPONFR_",
        "outputId": "0b49c7c0-b22c-44e6-9a9d-db6b7c62ce13",
        "colab": {
          "base_uri": "https://localhost:8080/"
        }
      },
      "source": [
        "# creating the input array\n",
        "X=np.array([[1,0,1,0,1], [1,0,1,1,0], [1,1,0,1,1],[1,0,1,0,1],[1,1,1,0,1],[1,1,1,1,1],[1,0,0,0,1],[0,0,0,0,1]])\n",
        "print ('\\n Input:')\n",
        "print(X)\n",
        "# shape of input array\n",
        "print('\\n Shape of Input:', X.shape)"
      ],
      "execution_count": null,
      "outputs": [
        {
          "output_type": "stream",
          "name": "stdout",
          "text": [
            "\n",
            " Input:\n",
            "[[1 0 1 0 1]\n",
            " [1 0 1 1 0]\n",
            " [1 1 0 1 1]\n",
            " [1 0 1 0 1]\n",
            " [1 1 1 0 1]\n",
            " [1 1 1 1 1]\n",
            " [1 0 0 0 1]\n",
            " [0 0 0 0 1]]\n",
            "\n",
            " Shape of Input: (8, 5)\n"
          ]
        }
      ]
    },
    {
      "cell_type": "code",
      "metadata": {
        "id": "LVvQz5g39wo3",
        "outputId": "73727a44-1597-4a1d-cc20-12523a89e30c",
        "colab": {
          "base_uri": "https://localhost:8080/"
        }
      },
      "source": [
        "# converting the input in matrix form\n",
        "X = X.T\n",
        "print('\\n Input in matrix form:')\n",
        "print(X)\n",
        "# shape of input matrix\n",
        "print('\\n Shape of Input Matrix:', X.shape)"
      ],
      "execution_count": null,
      "outputs": [
        {
          "output_type": "stream",
          "name": "stdout",
          "text": [
            "\n",
            " Input in matrix form:\n",
            "[[1 1 1 1 1 1 1 0]\n",
            " [0 0 1 0 1 1 0 0]\n",
            " [1 1 0 1 1 1 0 0]\n",
            " [0 1 1 0 0 1 0 0]\n",
            " [1 0 1 1 1 1 1 1]]\n",
            "\n",
            " Shape of Input Matrix: (5, 8)\n"
          ]
        }
      ]
    },
    {
      "cell_type": "code",
      "metadata": {
        "id": "IRe8JE0xNFSL",
        "outputId": "b1c31a07-9b70-4975-fa14-9bd141fa31de",
        "colab": {
          "base_uri": "https://localhost:8080/"
        }
      },
      "source": [
        "# creating the output array\n",
        "y=np.array([[1],[1],[0],[1],[1],[0],[1],[1]])\n",
        "print ('\\n Actual Output:')\n",
        "print(y)\n",
        "\n",
        "# output in matrix form\n",
        "y = y.T\n",
        "\n",
        "print ('\\n Output in matrix form:')\n",
        "print(y)\n",
        "\n",
        "# shape of input array\n",
        "print('\\n Shape of Output:', y.shape)"
      ],
      "execution_count": null,
      "outputs": [
        {
          "output_type": "stream",
          "name": "stdout",
          "text": [
            "\n",
            " Actual Output:\n",
            "[[1]\n",
            " [1]\n",
            " [0]\n",
            " [1]\n",
            " [1]\n",
            " [0]\n",
            " [1]\n",
            " [1]]\n",
            "\n",
            " Output in matrix form:\n",
            "[[1 1 0 1 1 0 1 1]]\n",
            "\n",
            " Shape of Output: (1, 8)\n"
          ]
        }
      ]
    },
    {
      "cell_type": "markdown",
      "metadata": {
        "id": "tKf4Ji1-NFSV"
      },
      "source": [
        "## 2. Architecture of the model (# input, hidden and output neurons)"
      ]
    },
    {
      "cell_type": "code",
      "metadata": {
        "id": "vlhBW0NNNFSg"
      },
      "source": [
        "inputlayer_neurons = X.shape[0] # number of features in data set\n",
        "hiddenlayer_neurons = 3 # number of hidden layers neurons\n",
        "output_neurons = 1 # number of neurons at output layer\n",
        "# inputlayer_neurons"
      ],
      "execution_count": null,
      "outputs": []
    },
    {
      "cell_type": "markdown",
      "metadata": {
        "id": "OoOsLucmNFSo"
      },
      "source": [
        "![alt text](https://drive.google.com/uc?id=1zrEFVsc6bMQZ7fRxbK4DRceaG78k26Pc)"
      ]
    },
    {
      "cell_type": "markdown",
      "metadata": {
        "id": "_Nmwj8RfNFSr"
      },
      "source": [
        "## 3. Initializing the weights for all the layers\n",
        "\n",
        "NOTE: For simplicity, we are assuming that the bias for all the layers is 0"
      ]
    },
    {
      "cell_type": "code",
      "metadata": {
        "id": "1T1IG-W8NFSu"
      },
      "source": [
        "# initializing weight\n",
        "# Shape of w_ih should number of neurons at input layer X number of neurons at hidden layer\n",
        "w_ih=np.random.uniform(size=(inputlayer_neurons,hiddenlayer_neurons))\n",
        "\n",
        "\n",
        "# Shape of w_ho should number of neurons at hidden layer X number of neurons at output layer\n",
        "w_ho=np.random.uniform(size=(hiddenlayer_neurons,output_neurons))"
      ],
      "execution_count": null,
      "outputs": []
    },
    {
      "cell_type": "code",
      "metadata": {
        "id": "Fpa1--9KNFS1",
        "outputId": "00f8298b-44d5-4603-9897-f66e7c96a81d",
        "colab": {
          "base_uri": "https://localhost:8080/"
        }
      },
      "source": [
        "# shape of weight matrix\n",
        "w_ih.shape, w_ho.shape"
      ],
      "execution_count": null,
      "outputs": [
        {
          "output_type": "execute_result",
          "data": {
            "text/plain": [
              "((5, 3), (3, 1))"
            ]
          },
          "metadata": {},
          "execution_count": 33
        }
      ]
    },
    {
      "cell_type": "markdown",
      "metadata": {
        "id": "srrDW1MNNFS-"
      },
      "source": [
        "## 4. Implementing forward propagation"
      ]
    },
    {
      "cell_type": "markdown",
      "metadata": {
        "id": "-g-SocwQNFTC"
      },
      "source": [
        "![alt text](https://drive.google.com/uc?id=1YwD7vY9k84vZmjmE5CXgQ69fYyadPsox)"
      ]
    },
    {
      "cell_type": "code",
      "metadata": {
        "id": "sOcBji4iNFTE"
      },
      "source": [
        "# We are using sigmoid as an activation function so defining the sigmoid function here\n",
        "\n",
        "# defining the Sigmoid Function\n",
        "def sigmoid (x):\n",
        "    return 1/(1 + np.exp(-x))"
      ],
      "execution_count": null,
      "outputs": []
    },
    {
      "cell_type": "code",
      "metadata": {
        "id": "DO6AYHtGNFTM"
      },
      "source": [
        "# hidden layer activations\n",
        "\n",
        "hidden_layer_input=np.dot(w_ih.T,X)\n",
        "hiddenlayer_activations = sigmoid(hidden_layer_input)"
      ],
      "execution_count": null,
      "outputs": []
    },
    {
      "cell_type": "code",
      "source": [
        "hidden_layer_input.shape"
      ],
      "metadata": {
        "colab": {
          "base_uri": "https://localhost:8080/"
        },
        "id": "WItS_DrJU8qe",
        "outputId": "49cbaa58-e4f2-427b-9150-903e333c4b39"
      },
      "execution_count": null,
      "outputs": [
        {
          "output_type": "execute_result",
          "data": {
            "text/plain": [
              "(3, 8)"
            ]
          },
          "metadata": {},
          "execution_count": 36
        }
      ]
    },
    {
      "cell_type": "markdown",
      "metadata": {
        "id": "o8zzYX6pNFTT"
      },
      "source": [
        "![alt text](https://drive.google.com/uc?id=1ETMoLD1fwi5u1HHLqtAdVUs-P8HNOU_p)"
      ]
    },
    {
      "cell_type": "code",
      "metadata": {
        "id": "CuqKwiToNFTW"
      },
      "source": [
        "# calculating the output\n",
        "output_layer_input=np.dot(w_ho.T,hiddenlayer_activations)\n",
        "output = sigmoid(output_layer_input)"
      ],
      "execution_count": null,
      "outputs": []
    },
    {
      "cell_type": "code",
      "source": [
        "output.shape"
      ],
      "metadata": {
        "colab": {
          "base_uri": "https://localhost:8080/"
        },
        "id": "hz3O1IriehjK",
        "outputId": "a6b4d6df-754d-466c-d363-e8cae92bc217"
      },
      "execution_count": null,
      "outputs": [
        {
          "output_type": "execute_result",
          "data": {
            "text/plain": [
              "(1, 8)"
            ]
          },
          "metadata": {},
          "execution_count": 38
        }
      ]
    },
    {
      "cell_type": "code",
      "metadata": {
        "id": "BjPlMkVMNFTd",
        "outputId": "9bdf8a4f-0fdf-4bba-e4ac-e11cf47bab33",
        "colab": {
          "base_uri": "https://localhost:8080/"
        }
      },
      "source": [
        "# output\n",
        "output"
      ],
      "execution_count": null,
      "outputs": [
        {
          "output_type": "execute_result",
          "data": {
            "text/plain": [
              "array([[0.76621183, 0.76636302, 0.78543985, 0.76621183, 0.78580513,\n",
              "        0.79164897, 0.7452827 , 0.70317909]])"
            ]
          },
          "metadata": {},
          "execution_count": 39
        }
      ]
    },
    {
      "cell_type": "markdown",
      "metadata": {
        "id": "mdFKMYyzNFTm"
      },
      "source": [
        "## 5. Implementing backward propagation"
      ]
    },
    {
      "cell_type": "markdown",
      "metadata": {
        "id": "c2m3XBgZNFTn"
      },
      "source": [
        "![alt text](https://drive.google.com/uc?id=1uYdg4mQL-B9o7BTOLnfoYUhh_LxTnpcW)"
      ]
    },
    {
      "cell_type": "code",
      "metadata": {
        "id": "IvUAAhlcNFTp"
      },
      "source": [
        "# calculating error\n",
        "error = np.square(y-output)/2"
      ],
      "execution_count": null,
      "outputs": []
    },
    {
      "cell_type": "code",
      "source": [
        "error"
      ],
      "metadata": {
        "colab": {
          "base_uri": "https://localhost:8080/"
        },
        "id": "gtUQEkINew_s",
        "outputId": "3a56ab29-bf77-414f-e012-39d5b0e29803"
      },
      "execution_count": null,
      "outputs": [
        {
          "output_type": "execute_result",
          "data": {
            "text/plain": [
              "array([[0.02732845, 0.02729312, 0.30845788, 0.02732845, 0.02293972,\n",
              "        0.31335405, 0.03244045, 0.04405133]])"
            ]
          },
          "metadata": {},
          "execution_count": 41
        }
      ]
    },
    {
      "cell_type": "markdown",
      "metadata": {
        "id": "3H0vjBdNNFTw"
      },
      "source": [
        "### Rate of change of error w.r.t weight between hidden and output layer"
      ]
    },
    {
      "cell_type": "markdown",
      "metadata": {
        "id": "4cncCd1WNFTz"
      },
      "source": [
        "![alt text](https://drive.google.com/uc?id=1_KexjgVJGRptZ6t1eobTter3mfIGo9rs)"
      ]
    },
    {
      "cell_type": "markdown",
      "metadata": {
        "id": "DqrhlDeDNFT1"
      },
      "source": [
        "**a. Rate of change of error w.r.t output**\n",
        "\n",
        "- `Mathematical notation:`\n",
        "\n",
        "To find $\\frac{dE}{dO}$, we start with the error function defined as $E = \\frac{1}{2}(Y - O)^2$. This function measures how far off the output $O$ is from the target value $Y$.\n",
        "\n",
        "\n",
        "Next, we differentiate $E$ with respect to $O$ to see how the error changes as the output changes. The differentiation process yields $\\frac{dE}{dO} = \\frac{d}{dO}\\left(\\frac{1}{2}(Y - O)^2\\right)$.\n",
        "\n",
        "\n",
        "To do this, we use the chain rule. The outer part of the function is $\\frac{1}{2}(u^2)$, where $u = Y - O$. The derivative of this outer function with respect to $u$ is $u$, and the inner function $u$ has a derivative of $-1$ since we are differentiating $-O$.\n",
        "\n",
        "\n",
        "Putting it all together, we find that $\\frac{dE}{dO} = (Y - O) \\cdot (-1)$, which simplifies to $\\frac{dE}{dO} = -(Y - O)$.\n",
        "\n",
        "\n",
        "This result indicates that as the output $O$ approaches the target $Y$, the error $E$ decreases, which helps guide adjustments in the model during training.\n",
        "\n",
        "\n",
        "\n",
        "- `Dimensions:`\n",
        "\n",
        "To find the dimensions involved in this derivative, we note that the inputs $X$ and the targets $y$ are given in transposed form. Specifically, $X$ has dimensions $(m, n)$ (where $m$ is the number of features and $n$ is the number of observations), and the target $y$ is represented as $(1, n)$. Consequently, the output $O$ from the model also has dimensions $(1, n)$.\n",
        "\n",
        "\n",
        "Thus, the dimension of the error $E$ calculated as $E = \\frac{1}{2}(y - O)^2$ remains $(1, n)$, as both $y$ and $O$ have the same dimensions.\n",
        "\n",
        "\n",
        "To find the dimension of the partial derivative $\\frac{dE}{dO}$, we compare the dimensions: the dimension of $E$ is $(1, n)$ and the dimension of $O$ is also $(1, n)$.\n",
        "\n",
        "\n",
        "Therefore, we conclude that the dimension of $\\frac{dE}{dO}$ is:\n",
        "$$\n",
        "\\text{Dimension of } \\frac{dE}{dO} = \\frac{(1, n)}{(1, n)} = (1, n).\n",
        "$$\n",
        "\n",
        "\n",
        "This means that the partial derivative $\\frac{dE}{dO}$ has 1 row and $n$ columns, indicating that it corresponds to the single output neuron for each of the $n$ observations.\n",
        "\n"
      ]
    },
    {
      "cell_type": "code",
      "metadata": {
        "id": "bKdk5m4FNFT3"
      },
      "source": [
        "# rate of change of error w.r.t. output\n",
        "error_wrt_output = -(y-output)"
      ],
      "execution_count": null,
      "outputs": []
    },
    {
      "cell_type": "markdown",
      "source": [
        "**b. Rate of change of output w.r.t Z2**\n",
        "- `Mathematical notation:`\n",
        "\n",
        "To find $\\frac{dO}{dz_2}$, we start with the sigmoid activation function defined as $O = \\sigma(z_2) = \\frac{1}{1 + e^{-z_2}}$. This function maps the input $z_2$ to an output $O$ between 0 and 1.\n",
        "\n",
        "\n",
        "Next, we differentiate $O$ with respect to $z_2$ to see how the output changes as the input $z_2$ changes. The differentiation process yields $\\frac{dO}{dz_2} = \\frac{d}{dz_2}\\left(\\frac{1}{1 + e^{-z_2}}\\right)$.\n",
        "\n",
        "\n",
        "To do this, we can apply the chain rule. The outer part of the function is $(1 + e^{-z_2})^{-1}$. The derivative of this outer function with respect to the inner function $u = 1 + e^{-z_2}$ is $-\\frac{1}{u^2}$. The inner function $u$ has a derivative of $e^{-z_2}(-1) = -e^{-z_2}$ since we are differentiating $e^{-z_2}$.\n",
        "\n",
        "\n",
        "Putting it all together, we find that:\n",
        "$$\n",
        "\\frac{dO}{dz_2} = -\\frac{1}{(1 + e^{-z_2})^2} \\cdot (-e^{-z_2}) = \\frac{e^{-z_2}}{(1 + e^{-z_2})^2}\n",
        "$$\n",
        "\n",
        "\n",
        "Now, we can express this result in terms of $O$. Since $O = \\frac{1}{1 + e^{-z_2}}$, we use the identity $e^{-z_2} = \\frac{1 - O}{O}$ to rewrite the derivative:\n",
        "$$\n",
        "\\frac{dO}{dz_2} = O(1 - O)\n",
        "$$\n",
        "\n",
        "\n",
        "\n",
        "- `Dimensions:`\n",
        "\n",
        "To find the dimensions involved in the derivative $\\frac{dO}{dz_2}$, we start with the input $z_2$ that is calculated from the hidden layer outputs $h_1$ and weights $W_{ho}$ as follows:\n",
        "\n",
        "\n",
        "$$\n",
        "z_2 = W_{ho} h_1 + b_{ho}\n",
        "$$\n",
        "\n",
        "\n",
        "In this equation, $W_{ho}$ connects the hidden layer to the output layer. The weight matrix $W_{ho}$ has dimensions $(1, m_1)$ (where $m_1$ is the number of neurons in the hidden layer), while the output from the hidden layer $h_1$ has dimensions $(m_1, n)$ (where $n$ is the number of observations). Additionally, the bias $b_{ho}$ has dimensions $(1, n)$.\n",
        "\n",
        "\n",
        "Therefore, the dimension of $z_2$ is:\n",
        "\n",
        "\n",
        "$$\n",
        "\\text{Dimension of } z_2 = (1, n)\n",
        "$$\n",
        "\n",
        "\n",
        "Next, we use the sigmoid function to compute the output $O$:\n",
        "\n",
        "\n",
        "$$\n",
        "O = \\sigma(z_2)\n",
        "$$\n",
        "\n",
        "\n",
        "Since the output $O$ is generated for each element in $z_2$ through the sigmoid function, we find that the dimension of $O$ is also:\n",
        "\n",
        "\n",
        "$$\n",
        "\\text{Dimension of } O = (1, n)\n",
        "$$\n",
        "\n",
        "\n",
        "To find the dimension of the derivative $\\frac{dO}{dz_2}$, we compare the dimensions involved. The dimension of $O$ is $(1, n)$ and the dimension of $z_2$ is also $(1, n)$.\n",
        "\n",
        "\n",
        "Thus, we conclude that the dimension of $\\frac{dO}{dz_2}$ is:\n",
        "\n",
        "\n",
        "$$\n",
        "\\text{Dimension of } \\frac{dO}{dz_2} = \\frac{(1, n)}{(1, n)} = (1, n).\n",
        "$$\n",
        "\n",
        "\n",
        "This indicates that the partial derivative $\\frac{dO}{dz_2}$ has 1 row and $n$ columns, corresponding to the single output neuron for each of the $n$ observations.\n"
      ],
      "metadata": {
        "id": "xNPrl-_RlRLs"
      }
    },
    {
      "cell_type": "code",
      "metadata": {
        "id": "Bl1PDwrBNFT9"
      },
      "source": [
        "# rate of change of output w.r.t. Z2\n",
        "output_wrt_Z2 = np.multiply(output,(1-output))"
      ],
      "execution_count": null,
      "outputs": []
    },
    {
      "cell_type": "markdown",
      "source": [
        "**c. Rate of change of Z2 w.r.t weights between hidden and output layer**\n",
        "- `Mathematical notation:`\n",
        "\n",
        "To find $\\frac{dZ_2}{dW_{ho}}$, we start by defining the values involved in the computation of $Z_2$. The total input to the second layer is given by:\n",
        "\n",
        "\n",
        "$$\n",
        "Z_2 = W_{ho}^T h_1 + b_{ho}\n",
        "$$\n",
        "\n",
        "\n",
        "where $h_1 = \\sigma(Z_1)$ is the output from the first layer, and $\\sigma$ is the activation function.\n",
        "\n",
        "\n",
        "Next, we differentiate $Z_2$ with respect to $W_{ho}$:\n",
        "\n",
        "\n",
        "$$\n",
        "\\frac{dZ_2}{dW_{ho}} = \\frac{d}{dW_{ho}}(W_{ho}^T h_1 + b_{ho})\n",
        "$$\n",
        "\n",
        "\n",
        "Since $b_{ho}$ does not depend on $W_{ho}$, we can ignore it while taking the derivative. Using the product rule on the term $W_{ho}^T h_1$, we get:\n",
        "\n",
        "\n",
        "$$\n",
        "\\frac{dZ_2}{dW_{ho}} = h_1\n",
        "$$\n",
        "\n",
        "\n",
        "This indicates that the change in $Z_2$ with respect to $W_{ho}$ is dependent on the values of $h_1$ from the first layer. Since $h_1$ is computed using the activation function applied to $Z_1$, this value will influence how $Z_2$ changes as we adjust $W_{ho}$.\n",
        "\n",
        "\n",
        "In summary, we find that:\n",
        "\n",
        "\n",
        "$$\n",
        "\\frac{dZ_2}{dW_{ho}} = h_1\n",
        "$$\n",
        "\n",
        "\n",
        "This result indicates that the partial derivative $\\frac{dZ_2}{dW_{ho}}$ is equal to the output of the first layer, which will guide the adjustment of the weights $W_{ho}$ during the training process.\n",
        "\n",
        "\n",
        "- `Dimensions:`\n",
        "\n",
        "To find the dimensions involved in the derivative $\\frac{dZ_2}{dW_{ho}}$, we first note the relevant dimensions of the components. The matrix $W_{ho}$ has dimensions $(m_1, 1)$, where $m_1$ is the number of neurons in the second layer. The output $h_1$ from the first layer has dimensions $(m_1, n)$, where $n$ is the number of observations.\n",
        "\n",
        "\n",
        "Now we examine the expression for $Z_2$:\n",
        "\n",
        "\n",
        "$$\n",
        "Z_2 = W_{ho}^T h_1 + b_{ho}\n",
        "$$\n",
        "\n",
        "\n",
        "Here, $b_{ho}$ is a bias term which usually has dimensions $(1, n)$ (broadcasting across observations). We focus on the leading term $W_{ho}^T h_1$.\n",
        "\n",
        "\n",
        "The dimensions for the matrix multiplication $W_{ho}^T h_1$ are calculated as follows. $W_{ho}^T$ has dimensions $(1, m_1)$ and $h_1$ has dimensions $(m_1, n)$. Thus, the product $W_{ho}^T h_1$ results in dimensions\n",
        "\n",
        "\n",
        "$$\n",
        "(1, m_1) \\times (m_1, n) = (1, n).\n",
        "$$\n",
        "\n",
        "\n",
        "Now, considering the derivative $\\frac{dZ_2}{dW_{ho}}$, we have established that $\\frac{dZ_2}{dW_{ho}} = h_1$, and since $h_1$ has dimensions $(m_1, n)$, we conclude that the dimension of $\\frac{dZ_2}{dW_{ho}}$ is\n",
        "\n",
        "\n",
        "$$\n",
        "\\text{Dimension of } \\frac{dZ_2}{dW_{ho}} = (m_1, n).\n",
        "$$\n",
        "\n",
        "\n",
        "This indicates that for each of the $n$ observations, there are $m_1$ partial derivatives corresponding to the $m_1$ neurons in the second layer.\n",
        "\n"
      ],
      "metadata": {
        "id": "vEbrg-4OlTCW"
      }
    },
    {
      "cell_type": "code",
      "metadata": {
        "id": "3vLk1nxLNFUD"
      },
      "source": [
        "# rate of change of Z2 w.r.t. weights between hidden and output layer\n",
        "Z2_wrt_who = hiddenlayer_activations"
      ],
      "execution_count": null,
      "outputs": []
    },
    {
      "cell_type": "code",
      "metadata": {
        "id": "UXXifY9QNFUI",
        "colab": {
          "base_uri": "https://localhost:8080/"
        },
        "outputId": "07bc999c-b191-483b-a4f0-2bfef3753192"
      },
      "source": [
        "# checking the shapes of partial derivatives\n",
        "error_wrt_output.shape, output_wrt_Z2.shape, Z2_wrt_who.shape"
      ],
      "execution_count": null,
      "outputs": [
        {
          "output_type": "execute_result",
          "data": {
            "text/plain": [
              "((1, 8), (1, 8), (3, 8))"
            ]
          },
          "metadata": {},
          "execution_count": 45
        }
      ]
    },
    {
      "cell_type": "code",
      "metadata": {
        "id": "ZvtS7wCRNFUN",
        "colab": {
          "base_uri": "https://localhost:8080/"
        },
        "outputId": "f0f8f26e-0dbc-4bf4-9153-fae627c7b446"
      },
      "source": [
        "# shape of weights of output layer\n",
        "w_ho.shape"
      ],
      "execution_count": null,
      "outputs": [
        {
          "output_type": "execute_result",
          "data": {
            "text/plain": [
              "(3, 1)"
            ]
          },
          "metadata": {},
          "execution_count": 46
        }
      ]
    },
    {
      "cell_type": "markdown",
      "metadata": {
        "id": "gC9zQEH6HON5"
      },
      "source": [
        "![alt text](https://drive.google.com/uc?id=1VesmZOVpfgLFESvOFd7dE-YHNtSMMkvM)"
      ]
    },
    {
      "cell_type": "code",
      "metadata": {
        "id": "l3HNVYGONFUr"
      },
      "source": [
        "# rate of change of error w.r.t weight between hidden and output layer\n",
        "error_wrt_who = np.dot(Z2_wrt_who,(error_wrt_output*output_wrt_Z2).T)"
      ],
      "execution_count": null,
      "outputs": []
    },
    {
      "cell_type": "code",
      "metadata": {
        "id": "cwyI1EGZNFUw",
        "colab": {
          "base_uri": "https://localhost:8080/"
        },
        "outputId": "3bdc87db-5d4b-4647-e722-d40de6e995ec"
      },
      "source": [
        "error_wrt_who.shape"
      ],
      "execution_count": null,
      "outputs": [
        {
          "output_type": "execute_result",
          "data": {
            "text/plain": [
              "(3, 1)"
            ]
          },
          "metadata": {},
          "execution_count": 48
        }
      ]
    },
    {
      "cell_type": "markdown",
      "metadata": {
        "id": "sDFPg2SHNFU2"
      },
      "source": [
        "### Rate of change of error w.r.t weight between input and hidden layer"
      ]
    },
    {
      "cell_type": "markdown",
      "metadata": {
        "id": "_757MrjBNFU2"
      },
      "source": [
        "![alt text](https://drive.google.com/uc?id=1X4-iInwlv7ber3fwgtqHuHTuFRci-tMV)"
      ]
    },
    {
      "cell_type": "markdown",
      "metadata": {
        "id": "_nPYGXkeNFU4"
      },
      "source": [
        "**a. Rate of change of error w.r.t output**\n",
        "\n",
        "- `Mathematical notation:` See part a) of \"Rate of change of error w.r.t weight between hidden and output layer\"\n",
        "- `Dimensions:` See part a) of \"Rate of change of error w.r.t weight between hidden and output layer\""
      ]
    },
    {
      "cell_type": "code",
      "metadata": {
        "id": "Sb7Ezxw9NFU6"
      },
      "source": [
        "# rate of change of error w.r.t. output\n",
        "error_wrt_output = -(y-output)"
      ],
      "execution_count": null,
      "outputs": []
    },
    {
      "cell_type": "markdown",
      "source": [
        "**b. Rate of change of output w.r.t Z2**\n",
        "- `Mathematical notation:` See part b) of \"Rate of change of error w.r.t weight between hidden and output layer\"\n",
        "- `Dimensions:` See part b) of \"Rate of change of error w.r.t weight between hidden and output layer\""
      ],
      "metadata": {
        "id": "Pl2Vfu33nbKp"
      }
    },
    {
      "cell_type": "code",
      "metadata": {
        "id": "3-SGbNaoNFVA"
      },
      "source": [
        "# rate of change of output w.r.t. Z2\n",
        "output_wrt_Z2 = np.multiply(output,(1-output))"
      ],
      "execution_count": null,
      "outputs": []
    },
    {
      "cell_type": "markdown",
      "source": [
        "**c. Rate of change of Z2 w.r.t hidden layer activations**\n",
        "- `Mathematical notation:`\n",
        "\n",
        "To find $\\frac{dZ_2}{dh_1}$, we start with the equation for $Z_2$, which is given by:\n",
        "\n",
        "\n",
        "$\n",
        "Z_2 = W_{ho}^T h_1 + b_{ho}\n",
        "$\n",
        "\n",
        "\n",
        "Here, $W_{ho}$ is the weight matrix connecting the hidden layer to the output, $h_1$ is the output from the first hidden layer, and $b_{ho}$ is the bias term.\n",
        "\n",
        "\n",
        "Next, we differentiate $Z_2$ with respect to $h_1$. Since $W_{ho}$ and $b_{ho}$ are independent of $h_1$, we focus on the term $W_{ho}^T h_1$. The derivative of this term with respect to $h_1$ is simply:\n",
        "\n",
        "\n",
        "$\n",
        "\\frac{dZ_2}{dh_1} = \\frac{d}{dh_1}(W_{ho}^T h_1 + b_{ho})\n",
        "$\n",
        "\n",
        "\n",
        "The derivative of $W_{ho}^T h_1$ with respect to $h_1$ is $W_{ho}^T$, and the derivative of the constant $b_{ho}$ is zero. Therefore, we have:\n",
        "\n",
        "\n",
        "$\n",
        "\\frac{dZ_2}{dh_1} = W_{ho}^T\n",
        "$\n",
        "\n",
        "\n",
        "Thus, the partial derivative of $Z_2$ with respect to $h_1$ is equal to the transpose of the weight matrix $W_{ho}$.\n",
        "\n",
        "\n",
        "In summary, we find that:\n",
        "\n",
        "\n",
        "$\n",
        "\\frac{dZ_2}{dh_1} = W_{ho}^T\n",
        "$\n",
        "\n",
        "\n",
        "This result indicates that the partial derivative $\\frac{dZ_2}{dh_1}$ is equal to the transpose of the weight matrix $W_{ho}$, which will guide the adjustment of the hidden layer's output during the training process.\n",
        "\n",
        "\n",
        "\n",
        "- `Dimensions:`\n",
        "\n",
        "To find the dimensions involved in the derivative $\\frac{dZ_2}{dh_1}$, we first note the dimensions of the components involved.\n",
        "\n",
        "\n",
        "The matrix $W_{ho}$ has dimensions $(m_1, 1)$, where $m_1$ is the number of neurons in the hidden layer, and the output $h_1$ from the first layer has dimensions $(m_1, n)$, where $n$ is the number of observations. The bias term $b_{ho}$ typically has dimensions $(1, n)$.\n",
        "\n",
        "\n",
        "The equation for $Z_2$ is:\n",
        "\n",
        "\n",
        "$$\n",
        "Z_2 = W_{ho}^T h_1 + b_{ho}\n",
        "$$\n",
        "\n",
        "\n",
        "As we determined, $\\frac{dZ_2}{dh_1} = W_{ho}^T$. Therefore, the dimension of $\\frac{dZ_2}{dh_1}$ corresponds to the dimension of $W_{ho}^T$.\n",
        "\n",
        "\n",
        "Since $W_{ho}$ has dimensions $(m_1, 1)$, $W_{ho}^T$ has dimensions $(1, m_1)$.\n",
        "\n",
        "\n",
        "Thus, the dimension of $\\frac{dZ_2}{dh_1}$ is:\n",
        "\n",
        "\n",
        "$$\n",
        "\\text{Dimension of } \\frac{dZ_2}{dh_1} = (1, m_1)\n",
        "$$\n",
        "\n",
        "\n",
        "This result indicates that the partial derivative $\\frac{dZ_2}{dh_1}$ has 1 row and $m_1$ columns, corresponding to the transpose of the weight matrix connecting the hidden layer to the output, which is used to adjust the hidden layer's output during the training process.\n"
      ],
      "metadata": {
        "id": "JRiVWC4EndZL"
      }
    },
    {
      "cell_type": "code",
      "metadata": {
        "id": "amuoR7h6NFVF"
      },
      "source": [
        "# rate of change of Z2 w.r.t. hidden layer activations\n",
        "Z2_wrt_h1 = w_ho # we can use w_ho instead of the transpose to ease the comprehension of the following computations"
      ],
      "execution_count": null,
      "outputs": []
    },
    {
      "cell_type": "markdown",
      "source": [
        "**d. Rate of change of hidden layer activations w.r.t Z1**\n",
        "- `Mathematical notation:`\n",
        "\n",
        "To find $\\frac{dh_1}{dZ_1}$, we know that $h_1 = \\sigma(Z_1)$. Therefore, the derivative of $h_1$ with respect to $Z_1$ is:\n",
        "\n",
        "\n",
        "$$\n",
        "\\frac{dh_1}{dZ_1} = \\frac{d}{dZ_1} \\sigma(Z_1)\n",
        "$$\n",
        "\n",
        "\n",
        "Since the derivative of the sigmoid function is $\\sigma'(x) = \\sigma(x)(1 - \\sigma(x))$, we have:\n",
        "\n",
        "\n",
        "$$\n",
        "\\frac{dh_1}{dZ_1} = \\sigma'(Z_1) = \\sigma(Z_1)(1 - \\sigma(Z_1))\n",
        "$$\n",
        "\n",
        "\n",
        "We also know that $h_1 = \\sigma(Z_1)$, so we can rewrite this as:\n",
        "\n",
        "\n",
        "$$\n",
        "\\frac{dh_1}{dZ_1} = h_1(1 - h_1)\n",
        "$$\n",
        "\n",
        "\n",
        "Thus, the partial derivative of $h_1$ with respect to $Z_1$ when using the sigmoid activation function is $h_1(1 - h_1)$.\n",
        "\n",
        "\n",
        "In summary, we find that:\n",
        "\n",
        "\n",
        "$$\n",
        "\\frac{dh_1}{dZ_1} = h_1(1 - h_1)\n",
        "$$\n",
        "\n",
        "\n",
        "This result indicates that the partial derivative $\\frac{dh_1}{dZ_1}$ is equal to the sigmoid function evaluated at $Z_1$ times $(1 - $ the sigmoid function evaluated at $Z_1)$, which will guide the adjustment of $Z_1$ during the training process.\n",
        "\n",
        "\n",
        "- `Dimensions:`\n",
        "\n",
        "To determine the dimension of $\\frac{dh_1}{dZ_1}$, we first consider the dimensions of $h_1$ and $Z_1$.\n",
        "\n",
        "\n",
        "Given that $h_1$ is the output of the first layer, it has dimensions $(m_1, n)$, where $m_1$ is the number of neurons in the first layer, and $n$ is the number of observations. Since $Z_1$ is the input to the activation function that produces $h_1$, it must have the same dimensions as $h_1$. Therefore, $Z_1$ also has dimensions $(m_1, n)$.\n",
        "\n",
        "\n",
        "Since $\\frac{dh_1}{dZ_1} = h_1(1 - h_1)$, and both $h_1$ and $Z_1$ have dimensions $(m_1, n)$, the derivative $\\frac{dh_1}{dZ_1}$ will also have the same dimensions. This is because the sigmoid function and its derivative are applied element-wise.\n",
        "\n",
        "\n",
        "Thus, the dimension of $\\frac{dh_1}{dZ_1}$ is:\n",
        "\n",
        "\n",
        "$$\n",
        "\\text{Dimension of } \\frac{dh_1}{dZ_1} = (m_1, n)\n",
        "$$\n",
        "\n",
        "\n",
        "This means that the partial derivative $\\frac{dh_1}{dZ_1}$ has $m_1$ rows and $n$ columns, corresponding to the element-wise derivative of the sigmoid function applied to each element of $Z_1$.\n",
        "\n",
        "\n",
        "\n",
        "\n"
      ],
      "metadata": {
        "id": "5iz64pH7nf0a"
      }
    },
    {
      "cell_type": "code",
      "metadata": {
        "id": "YDUZEdWKNFVJ"
      },
      "source": [
        "# rate of change of hidden layer activations w.r.t. Z1\n",
        "h1_wrt_Z1 = np.multiply(hiddenlayer_activations,(1-hiddenlayer_activations))"
      ],
      "execution_count": null,
      "outputs": []
    },
    {
      "cell_type": "markdown",
      "source": [
        "**e. Rate of change of Z1 w.r.t weights between input and hidden layer**\n",
        "- `Mathematical notation:`\n",
        "\n",
        "To find the partial derivative $\\frac{dZ_1}{dW_{ih}}$, let's first define the relevant terms.\n",
        "\n",
        "\n",
        "$Z_1$ is the input to the first layer's activation function, and it's given by:\n",
        "\n",
        "\n",
        "$$\n",
        "Z_1 = W_{ih}X + b_{ih}\n",
        "$$\n",
        "\n",
        "\n",
        "where:\n",
        "$W_{ih}$ is the weight matrix connecting the input layer to the first hidden layer.\n",
        "$X$ is the input data.\n",
        "$b_{ih}$ is the bias vector for the first hidden layer.\n",
        "\n",
        "\n",
        "Now, we want to find $\\frac{dZ_1}{dW_{ih}}$. Taking the derivative of $Z_1$ with respect to $W_{ih}$, we treat $X$ and $b_{ih}$ as constants since they do not depend on $W_{ih}$. Thus, we have:\n",
        "\n",
        "\n",
        "$$\n",
        "\\frac{dZ_1}{dW_{ih}} = \\frac{d}{dW_{ih}} (W_{ih}X + b_{ih})\n",
        "$$\n",
        "\n",
        "\n",
        "The derivative of $W_{ih}X$ with respect to $W_{ih}$ is simply $X$. The derivative of $b_{ih}$ with respect to $W_{ih}$ is zero, since $b_{ih}$ is independent of $W_{ih}$. Therefore:\n",
        "\n",
        "\n",
        "$$\n",
        "\\frac{dZ_1}{dW_{ih}} = X\n",
        "$$\n",
        "\n",
        "\n",
        "So, the partial derivative of $Z_1$ with respect to $W_{ih}$ is equal to the input data $X$.\n",
        "\n",
        "\n",
        "In summary, we find that:\n",
        "\n",
        "\n",
        "$$\n",
        "\\frac{dZ_1}{dW_{ih}} = X\n",
        "$$\n",
        "\n",
        "\n",
        "This result indicates that the partial derivative $\\frac{dZ_1}{dW_{ih}}$ is equal to the input data $X$, which is used to adjust the weights $W_{ih}$ during the training process.\n",
        "\n",
        "\n",
        "\n",
        "\n",
        "- `Dimensions:`\n",
        "\n",
        "To find the dimension of $\\frac{dZ_1}{dW_{ih}}$, let's first define the relevant terms.\n",
        "\n",
        "\n",
        "We know that:\n",
        "\n",
        "\n",
        "$$\n",
        "\\frac{dZ_1}{dW_{ih}} = X\n",
        "$$\n",
        "\n",
        "\n",
        "where:\n",
        "$X$ is the input data.\n",
        "\n",
        "\n",
        "Now, we want to find the dimension of $\\frac{dZ_1}{dW_{ih}}$, which is the same as the dimension of $X$.\n",
        "\n",
        "\n",
        "Let's define the dimensions:\n",
        "$X$ typically has dimensions $(m, n)$, where $m$ is the number of features (variables) and $n$ is the number of observations.\n",
        "\n",
        "\n",
        "Therefore:\n",
        "\n",
        "\n",
        "$$\n",
        "\\text{Dimension of } \\frac{dZ_1}{dW_{ih}} = \\text{Dimension of } X = (m, n)\n",
        "$$\n",
        "\n",
        "\n",
        "So, the dimension of $\\frac{dZ_1}{dW_{ih}}$ is:\n",
        "\n",
        "\n",
        "$$\n",
        "\\text{Dimension of } \\frac{dZ_1}{dW_{ih}} = (m, n)\n",
        "$$\n",
        "\n",
        "\n",
        "This result indicates that the partial derivative $\\frac{dZ_1}{dW_{ih}}$ has dimensions $m \\times n$, matching the dimensions of the input data $X$, where $m$ is the number of features and $n$ is the number of observations.\n",
        "\n",
        "\n"
      ],
      "metadata": {
        "id": "Wrs7JjpYnjqt"
      }
    },
    {
      "cell_type": "code",
      "metadata": {
        "id": "Ft4U6Td6NFVO"
      },
      "source": [
        "# rate of change of Z1 w.r.t. weights between input and hidden layer\n",
        "Z1_wrt_wih = X"
      ],
      "execution_count": null,
      "outputs": []
    },
    {
      "cell_type": "code",
      "metadata": {
        "id": "A-hsfsi4NFVR",
        "colab": {
          "base_uri": "https://localhost:8080/"
        },
        "outputId": "8c3b0d0b-dd41-4151-aff0-d2f03f57c362"
      },
      "source": [
        "# checking the shapes of partial derivatives\n",
        "error_wrt_output.shape, output_wrt_Z2.shape, Z2_wrt_h1.shape, h1_wrt_Z1.shape, Z1_wrt_wih.shape"
      ],
      "execution_count": null,
      "outputs": [
        {
          "output_type": "execute_result",
          "data": {
            "text/plain": [
              "((1, 8), (1, 8), (3, 1), (3, 8), (5, 8))"
            ]
          },
          "metadata": {},
          "execution_count": 54
        }
      ]
    },
    {
      "cell_type": "code",
      "metadata": {
        "id": "1uka_yPrNFVV",
        "colab": {
          "base_uri": "https://localhost:8080/"
        },
        "outputId": "a52c7510-c2a0-42a7-9eaa-66ed746b5fb6"
      },
      "source": [
        "# shape of weights of hidden layer\n",
        "w_ih.shape"
      ],
      "execution_count": null,
      "outputs": [
        {
          "output_type": "execute_result",
          "data": {
            "text/plain": [
              "(5, 3)"
            ]
          },
          "metadata": {},
          "execution_count": 55
        }
      ]
    },
    {
      "cell_type": "markdown",
      "metadata": {
        "id": "gCeSm7vrHbHj"
      },
      "source": [
        "![alt text](https://drive.google.com/uc?id=1RkG5x1NEFWlF3tj0OlswOWvBcV5XNV1C)"
      ]
    },
    {
      "cell_type": "code",
      "metadata": {
        "id": "XTPNf3E5NFVs"
      },
      "source": [
        "# rate of change of error w.r.t weights between input and hidden layer\n",
        "error_wrt_wih = np.dot(Z1_wrt_wih,(h1_wrt_Z1*np.dot(Z2_wrt_h1,(output_wrt_Z2*error_wrt_output))).T)"
      ],
      "execution_count": null,
      "outputs": []
    },
    {
      "cell_type": "code",
      "source": [
        "error_wrt_wih"
      ],
      "metadata": {
        "id": "-qTQO_WOH5LW",
        "outputId": "62033289-5373-42fa-c2df-e249d900d077",
        "colab": {
          "base_uri": "https://localhost:8080/"
        }
      },
      "execution_count": null,
      "outputs": [
        {
          "output_type": "execute_result",
          "data": {
            "text/plain": [
              "array([[-0.0100051 , -0.00455386, -0.00235828],\n",
              "       [ 0.00761805,  0.00348603,  0.00540206],\n",
              "       [-0.00921193, -0.00438709, -0.0036097 ],\n",
              "       [ 0.00542114,  0.0032178 ,  0.00404109],\n",
              "       [-0.01918392, -0.00745773, -0.00338612]])"
            ]
          },
          "metadata": {},
          "execution_count": 57
        }
      ]
    },
    {
      "cell_type": "code",
      "metadata": {
        "id": "_WN0I-mpNFVw",
        "colab": {
          "base_uri": "https://localhost:8080/"
        },
        "outputId": "64238e84-9c37-43d9-9d8d-8fbd3e870ba8"
      },
      "source": [
        "error_wrt_wih.shape"
      ],
      "execution_count": null,
      "outputs": [
        {
          "output_type": "execute_result",
          "data": {
            "text/plain": [
              "(5, 3)"
            ]
          },
          "metadata": {},
          "execution_count": 58
        }
      ]
    },
    {
      "cell_type": "markdown",
      "metadata": {
        "id": "W2bu4H5-NFVz"
      },
      "source": [
        "### Update the parameters"
      ]
    },
    {
      "cell_type": "markdown",
      "metadata": {
        "id": "-nmJnY_PNFV1"
      },
      "source": [
        "![alt text](https://drive.google.com/uc?id=1A5jaB3WjZx9yrJkk9imVEvP3PZodjapE)"
      ]
    },
    {
      "cell_type": "code",
      "metadata": {
        "id": "_r59xEpINFV2"
      },
      "source": [
        "# defining the learning rate\n",
        "lr = 0.01"
      ],
      "execution_count": null,
      "outputs": []
    },
    {
      "cell_type": "code",
      "metadata": {
        "id": "aiBFNXd3NFV7",
        "colab": {
          "base_uri": "https://localhost:8080/"
        },
        "outputId": "53ec2e39-b232-4993-a49b-f2b16c123fa8"
      },
      "source": [
        "# initial w_ho and w_ih\n",
        "w_ho"
      ],
      "execution_count": null,
      "outputs": [
        {
          "output_type": "execute_result",
          "data": {
            "text/plain": [
              "array([[0.8952718 ],\n",
              "       [0.26443251],\n",
              "       [0.2374307 ]])"
            ]
          },
          "metadata": {},
          "execution_count": 60
        }
      ]
    },
    {
      "cell_type": "code",
      "metadata": {
        "id": "CuosFKUENFWB",
        "scrolled": true,
        "colab": {
          "base_uri": "https://localhost:8080/"
        },
        "outputId": "b4d531c6-1c58-475f-8b67-1f7f424c11ef"
      },
      "source": [
        "w_ih"
      ],
      "execution_count": null,
      "outputs": [
        {
          "output_type": "execute_result",
          "data": {
            "text/plain": [
              "array([[0.87870937, 0.66846918, 0.30019003],\n",
              "       [0.89796433, 0.92627396, 0.77923104],\n",
              "       [0.664842  , 0.50687411, 0.27885069],\n",
              "       [0.55219686, 0.79078026, 0.12192073],\n",
              "       [0.5606317 , 0.00277591, 0.72874415]])"
            ]
          },
          "metadata": {},
          "execution_count": 61
        }
      ]
    },
    {
      "cell_type": "code",
      "metadata": {
        "id": "D_Va2xywNFWF"
      },
      "source": [
        "# updating the weights of output layer\n",
        "w_ho = w_ho - lr * error_wrt_who"
      ],
      "execution_count": null,
      "outputs": []
    },
    {
      "cell_type": "code",
      "metadata": {
        "id": "ruFlc96BNFWL"
      },
      "source": [
        "# updating the weights of hidden layer\n",
        "w_ih = w_ih - lr * error_wrt_wih"
      ],
      "execution_count": null,
      "outputs": []
    },
    {
      "cell_type": "code",
      "metadata": {
        "id": "NTf4nS1xNFWP",
        "colab": {
          "base_uri": "https://localhost:8080/"
        },
        "outputId": "7c3a1b3f-7136-4c19-fb88-fc95bd3f0fb6"
      },
      "source": [
        "# updated w_ho and w_ih\n",
        "w_ho"
      ],
      "execution_count": null,
      "outputs": [
        {
          "output_type": "execute_result",
          "data": {
            "text/plain": [
              "array([[0.8949962 ],\n",
              "       [0.2639417 ],\n",
              "       [0.23713201]])"
            ]
          },
          "metadata": {},
          "execution_count": 64
        }
      ]
    },
    {
      "cell_type": "code",
      "metadata": {
        "id": "7VYNPPNlNFWU",
        "colab": {
          "base_uri": "https://localhost:8080/"
        },
        "outputId": "d6dfcdd0-d0d4-41e1-f803-5d6e82d1f9ad"
      },
      "source": [
        "w_ih"
      ],
      "execution_count": null,
      "outputs": [
        {
          "output_type": "execute_result",
          "data": {
            "text/plain": [
              "array([[0.87880943, 0.66851472, 0.30021361],\n",
              "       [0.89788815, 0.9262391 , 0.77917702],\n",
              "       [0.66493412, 0.50691798, 0.27888679],\n",
              "       [0.55214265, 0.79074809, 0.12188032],\n",
              "       [0.56082353, 0.00285049, 0.72877801]])"
            ]
          },
          "metadata": {},
          "execution_count": 65
        }
      ]
    },
    {
      "cell_type": "markdown",
      "metadata": {
        "id": "SxLy6DZlNFWY"
      },
      "source": [
        "## 6. Training the model for n epochs"
      ]
    },
    {
      "cell_type": "code",
      "metadata": {
        "id": "8HKS9vIyNFWZ"
      },
      "source": [
        "# defining the model architecture\n",
        "inputlayer_neurons = X.shape[0] # number of features in data set\n",
        "hiddenlayer_neurons = 3 # number of hidden layers neurons\n",
        "output_neurons = 1 # number of neurons at output layer\n",
        "\n",
        "# initializing weight\n",
        "w_ih=np.random.uniform(size=(inputlayer_neurons,hiddenlayer_neurons))\n",
        "w_ho=np.random.uniform(size=(hiddenlayer_neurons,output_neurons))\n",
        "\n",
        "# defining the parameters (hyperparameters)\n",
        "lr = 0.01\n",
        "epochs = 30000"
      ],
      "execution_count": null,
      "outputs": []
    },
    {
      "cell_type": "code",
      "metadata": {
        "id": "ojybM51LNFWc",
        "colab": {
          "base_uri": "https://localhost:8080/"
        },
        "outputId": "442d7f32-6cf6-4a34-b738-1b264d4ece52"
      },
      "source": [
        "# initial w_ih and w_ho\n",
        "w_ih"
      ],
      "execution_count": null,
      "outputs": [
        {
          "output_type": "execute_result",
          "data": {
            "text/plain": [
              "array([[0.39692748, 0.0940208 , 0.75301087],\n",
              "       [0.13666712, 0.76544151, 0.61367941],\n",
              "       [0.43845803, 0.69074318, 0.93420727],\n",
              "       [0.43628423, 0.56397198, 0.17795248],\n",
              "       [0.36115595, 0.09581573, 0.07160845]])"
            ]
          },
          "metadata": {},
          "execution_count": 67
        }
      ]
    },
    {
      "cell_type": "code",
      "metadata": {
        "id": "1RS_d3kdNFWg",
        "colab": {
          "base_uri": "https://localhost:8080/"
        },
        "outputId": "22eeab41-15b3-4b75-d657-f9f00c9a2690"
      },
      "source": [
        "w_ho"
      ],
      "execution_count": null,
      "outputs": [
        {
          "output_type": "execute_result",
          "data": {
            "text/plain": [
              "array([[0.91876566],\n",
              "       [0.8091531 ],\n",
              "       [0.11724062]])"
            ]
          },
          "metadata": {},
          "execution_count": 68
        }
      ]
    },
    {
      "cell_type": "code",
      "metadata": {
        "id": "_yVAcyW_NFWk"
      },
      "source": [
        "error_epoch = []\n",
        "for i in range(epochs):\n",
        "    # Forward Propogation\n",
        "\n",
        "    # hidden layer activations\n",
        "    hidden_layer_input=np.dot(w_ih.T,X)\n",
        "    hiddenlayer_activations = sigmoid(hidden_layer_input)\n",
        "    # calculating the output\n",
        "    output_layer_input=np.dot(w_ho.T,hiddenlayer_activations)\n",
        "    output = sigmoid(output_layer_input)\n",
        "\n",
        "    #===================================================================\n",
        "    # Backward Propagation\n",
        "\n",
        "    # calculating error\n",
        "    error = np.square(y-output)/2\n",
        "    error_wrt_output = -(y-output)\n",
        "    output_wrt_Z2 = np.multiply(output,(1-output))\n",
        "    Z2_wrt_who = hiddenlayer_activations\n",
        "    # rate of change of error w.r.t weight between hidden and output layer\n",
        "    error_wrt_who = np.dot(Z2_wrt_who,(error_wrt_output*output_wrt_Z2).T)\n",
        "    Z2_wrt_h1 = w_ho\n",
        "    h1_wrt_Z1 = np.multiply(hiddenlayer_activations,(1-hiddenlayer_activations))\n",
        "    Z1_wrt_wih = X\n",
        "    # rate of change of error w.r.t weights between input and hidden layer\n",
        "    error_wrt_wih = np.dot(Z1_wrt_wih,(h1_wrt_Z1*np.dot(Z2_wrt_h1,(error_wrt_output*output_wrt_Z2))).T)\n",
        "\n",
        "    #===================================================================\n",
        "\n",
        "    # updating the weights between hidden and output layer\n",
        "    w_ho = w_ho - lr * error_wrt_who\n",
        "    # updating the weights between input and hidden layer\n",
        "    w_ih = w_ih - lr * error_wrt_wih\n",
        "\n",
        "    # appending the error of each epoch\n",
        "    error_epoch.append(np.average(error))"
      ],
      "execution_count": null,
      "outputs": []
    },
    {
      "cell_type": "code",
      "metadata": {
        "id": "Ra5mTgwUNFWo",
        "outputId": "b8d62a57-bf39-4535-e18b-f76775ba14b2",
        "colab": {
          "base_uri": "https://localhost:8080/"
        }
      },
      "source": [
        "# updated w_ih and w_ho\n",
        "w_ih"
      ],
      "execution_count": null,
      "outputs": [
        {
          "output_type": "execute_result",
          "data": {
            "text/plain": [
              "array([[ 1.93592932,  0.16350934,  0.4808718 ],\n",
              "       [-3.86329771,  0.75144858,  1.30370497],\n",
              "       [ 2.7337959 ,  0.6924831 ,  0.34051738],\n",
              "       [-3.37424933,  0.47785603,  0.69862832],\n",
              "       [ 0.66190167,  0.3023947 , -0.30203652]])"
            ]
          },
          "metadata": {},
          "execution_count": 70
        }
      ]
    },
    {
      "cell_type": "code",
      "metadata": {
        "id": "WeN2dcc0NFW8",
        "scrolled": true,
        "outputId": "b1c1c7a4-3554-4a35-ee46-14130f0b4c20",
        "colab": {
          "base_uri": "https://localhost:8080/",
          "height": 447
        }
      },
      "source": [
        "# visualizing the error after each epoch\n",
        "plt.plot(np.arange(1,epochs+1), np.array(error_epoch))"
      ],
      "execution_count": null,
      "outputs": [
        {
          "output_type": "execute_result",
          "data": {
            "text/plain": [
              "[<matplotlib.lines.Line2D at 0x7f7244643010>]"
            ]
          },
          "metadata": {},
          "execution_count": 71
        },
        {
          "output_type": "display_data",
          "data": {
            "text/plain": [
              "<Figure size 640x480 with 1 Axes>"
            ],
            "image/png": "[encoded data removed]"
          },
          "metadata": {}
        }
      ]
    },
    {
      "cell_type": "markdown",
      "source": [
        "**`Comments:`** The loss is decreasing very fast after 5000 epochs of training and begins to stabilize at 10000 epochs. The final loss is close to 0. $E ≃ 0$"
      ],
      "metadata": {
        "id": "SjBOThw0jj1v"
      }
    },
    {
      "cell_type": "code",
      "metadata": {
        "id": "bJlcGoeUNFXA",
        "outputId": "d87bdc3c-9f6f-4686-d19c-0a1aac298598",
        "colab": {
          "base_uri": "https://localhost:8080/"
        }
      },
      "source": [
        "# final output from the model\n",
        "output"
      ],
      "execution_count": null,
      "outputs": [
        {
          "output_type": "execute_result",
          "data": {
            "text/plain": [
              "array([[0.99345447, 0.94881699, 0.03822425, 0.99345447, 0.94914295,\n",
              "        0.07757236, 0.99281065, 0.96129248]])"
            ]
          },
          "metadata": {},
          "execution_count": 72
        }
      ]
    },
    {
      "cell_type": "code",
      "metadata": {
        "id": "ARNn3MiKNFXF",
        "outputId": "153cc300-8b5f-413b-84a7-a9df00f7d243",
        "colab": {
          "base_uri": "https://localhost:8080/"
        }
      },
      "source": [
        "# actual target\n",
        "y"
      ],
      "execution_count": null,
      "outputs": [
        {
          "output_type": "execute_result",
          "data": {
            "text/plain": [
              "array([[1, 1, 0, 1, 1, 0, 1, 1]])"
            ]
          },
          "metadata": {},
          "execution_count": 73
        }
      ]
    },
    {
      "cell_type": "code",
      "metadata": {
        "id": "MtwXl0bjNFXJ",
        "outputId": "62a2ddd9-f194-42d8-fdea-78b5c2f75287",
        "colab": {
          "base_uri": "https://localhost:8080/"
        }
      },
      "source": [
        "# error at last epoch\n",
        "np.mean(error)"
      ],
      "execution_count": null,
      "outputs": [
        {
          "output_type": "execute_result",
          "data": {
            "text/plain": [
              "0.0008950218790843358"
            ]
          },
          "metadata": {},
          "execution_count": 74
        }
      ]
    }
  ]
}